{
 "cells": [
  {
   "cell_type": "code",
   "execution_count": null,
   "metadata": {},
   "outputs": [],
   "source": [
    "import cv2\n",
    "import numpy as np\n",
    "\n",
    "\n",
    "\n",
    "# Lire l'image\n",
    "image_path = '../img.jfif'\n",
    "img = cv2.imread(image_path, cv2.IMREAD_GRAYSCALE)\n",
    "\n",
    "#gauss\n",
    "kernel = np.array([[1,2,1],[2,4,2],[1,2,1]]) / 16\n",
    "\n",
    "imgRes = cv2.filter2D(img,-1,kernel)\n",
    "\n",
    "\n",
    "cv2.normalize(imgRes,imgRes,0,255,cv2.NORM_MINMAX)\n",
    "cv2.imshow(\"image\",img)\n",
    "cv2.imshow(\"result\",imgRes)\n",
    "\n",
    "cv2.waitKey(0)\n",
    "\n",
    "cv2.destroyAllWindows()"
   ]
  },
  {
   "cell_type": "code",
   "execution_count": 18,
   "metadata": {},
   "outputs": [],
   "source": [
    "import cv2\n",
    "import numpy as np\n",
    "\n",
    "\n",
    "\n",
    "# Lire l'image\n",
    "image_path = '../img.jfif'\n",
    "img = cv2.imread(image_path, cv2.IMREAD_GRAYSCALE)\n",
    "\n",
    "#laplacien\n",
    "kernel = np.array([[0,-1,0],[-1,4,-1],[0,-1,0]])\n",
    "\n",
    "imgRes = cv2.filter2D(img.astype(np.int16),-1,kernel)\n",
    "\n",
    "imgRes = img + imgRes  #rehaussement des contours \n",
    "\n",
    "cv2.normalize(imgRes,imgRes,0,255,cv2.NORM_MINMAX)\n",
    "cv2.imshow(\"image\",img)\n",
    "cv2.imshow(\"result\",imgRes.astype(np.uint8))\n",
    "\n",
    "cv2.waitKey(0)\n",
    "\n",
    "cv2.destroyAllWindows()"
   ]
  },
  {
   "cell_type": "code",
   "execution_count": null,
   "metadata": {},
   "outputs": [],
   "source": [
    "import cv2\n",
    "import numpy as np\n",
    "\n",
    "\n",
    "\n",
    "# Lire l'image\n",
    "image_path = '../img.jfif'\n",
    "img = cv2.imread(image_path, cv2.IMREAD_GRAYSCALE)\n",
    "\n",
    "#gardient\n",
    "kernel = np.array([[0,-1,0],[-1,1,-1],[0,-1,0]])\n",
    "#kernel = np.array([[0,-1,0],[0,-1,0],[0,-1,0]])\n",
    "\n",
    "imgRes = cv2.filter2D(img.astype(np.int16),-1,kernel)\n",
    "\n",
    "imgRes = img + imgRes  #rehaussement des contours \n",
    "\n",
    "cv2.normalize(imgRes,imgRes,0,255,cv2.NORM_MINMAX)\n",
    "cv2.imshow(\"image\",img)\n",
    "cv2.imshow(\"result\",imgRes.astype(np.uint8))\n",
    "\n",
    "cv2.waitKey(0)\n",
    "\n",
    "cv2.destroyAllWindows()"
   ]
  },
  {
   "cell_type": "code",
   "execution_count": 16,
   "metadata": {},
   "outputs": [],
   "source": [
    "import cv2\n",
    "import numpy as np\n",
    "\n",
    "\n",
    "\n",
    "# Lire l'image\n",
    "image_path = '../img.jfif'\n",
    "img = cv2.imread(image_path, cv2.IMREAD_GRAYSCALE)\n",
    "\n",
    "#laplacien + rehaussement\n",
    "\n",
    "kernel = np.array([[0,-1,0],[-1,5,-1],[0,-1,0]])\n",
    "\n",
    "imgRes = cv2.filter2D(img.astype(np.int16),-1,kernel)\n",
    "\n",
    "#imgRes = img + imgRes  #rehaussement des contours \n",
    "\n",
    "cv2.normalize(imgRes,imgRes,0,255,cv2.NORM_MINMAX)\n",
    "cv2.imshow(\"image\",img)\n",
    "cv2.imshow(\"result\",imgRes.astype(np.uint8))\n",
    "\n",
    "cv2.waitKey(0)\n",
    "\n",
    "cv2.destroyAllWindows()"
   ]
  },
  {
   "cell_type": "code",
   "execution_count": 1,
   "metadata": {},
   "outputs": [],
   "source": [
    "import math\n",
    "import numpy as np\n",
    "\n",
    "\n",
    "def gauss(x,y,sigma):\n",
    "    part1 = 1/(2*math.pi*pow(sigma,2))\n",
    "    part2 = -(x*x + y*y) /(2*pow(sigma,2))\n",
    "    return part1 * math.pow(math.e,part2)"
   ]
  },
  {
   "cell_type": "code",
   "execution_count": 2,
   "metadata": {},
   "outputs": [
    {
     "name": "stdout",
     "output_type": "stream",
     "text": [
      "2.00 \t 4.00 \t 5.00 \t 4.00 \t 2.00 \t \n",
      "4.00 \t 9.00 \t 12.00 \t 9.00 \t 4.00 \t \n",
      "5.00 \t 12.00 \t 15.00 \t 12.00 \t 5.00 \t \n",
      "4.00 \t 9.00 \t 12.00 \t 9.00 \t 4.00 \t \n",
      "2.00 \t 4.00 \t 5.00 \t 4.00 \t 2.00 \t \n",
      "somme =  159.0\n"
     ]
    }
   ],
   "source": [
    "def print_gauss(sigma = 1.4, vois_mat=5):\n",
    "    vois = int(vois_mat/2)\n",
    "    x,y = 0,0\n",
    "    som = 0.0\n",
    "    for i in range(-vois,vois+1):\n",
    "        for j in range(-vois,vois+1):\n",
    "            val = gauss(i,j,sigma)\n",
    "            val = round(val * 185,0)\n",
    "            print('{:02.2f}'.format(val), '\\t', end =\" \")\n",
    "            som += val\n",
    "        print('')\n",
    "    print('somme = ',som)\n",
    "\n",
    "print_gauss()"
   ]
  },
  {
   "cell_type": "code",
   "execution_count": 3,
   "metadata": {},
   "outputs": [],
   "source": [
    "def check_gauss(mat):\n",
    "    for row in mat:\n",
    "        print(\" \".join(map(str, row)))"
   ]
  },
  {
   "cell_type": "code",
   "execution_count": 8,
   "metadata": {},
   "outputs": [
    {
     "name": "stdout",
     "output_type": "stream",
     "text": [
      "2.0 4.0 5.0 4.0 2.0\n",
      "4.0 9.0 12.0 9.0 4.0\n",
      "5.0 12.0 15.0 12.0 5.0\n",
      "4.0 9.0 12.0 9.0 4.0\n",
      "2.0 4.0 5.0 4.0 2.0\n"
     ]
    },
    {
     "data": {
      "text/plain": [
       "159.0"
      ]
     },
     "execution_count": 8,
     "metadata": {},
     "output_type": "execute_result"
    }
   ],
   "source": [
    "def get_gauss(sigma = 1.4, vois_mat=5):\n",
    "    mat_gauss = np.zeros((5,5),float)\n",
    "    vois = int(vois_mat/2)\n",
    "    x,y = 0,0\n",
    "    som = 0.0\n",
    "    for i in range(-vois,vois+1):\n",
    "        for j in range(-vois,vois+1):\n",
    "            val = gauss(i,j,sigma)\n",
    "            val = round(val * 185,0)\n",
    "            mat_gauss[i + vois][j + vois] = val\n",
    "            #print('{:02.2f}'.format(val), '\\t', end =\" \")\n",
    "            som += val\n",
    "        #print('')\n",
    "    #print('somme = ',som)\n",
    "    return som, mat_gauss\n",
    "\n",
    "som , mat_gauss = get_gauss()\n",
    "check_gauss(mat_gauss)\n",
    "som"
   ]
  },
  {
   "cell_type": "code",
   "execution_count": 9,
   "metadata": {},
   "outputs": [],
   "source": [
    "import cv2\n",
    "import numpy as np\n",
    "\n",
    "\n",
    "\n",
    "# Lire l'image\n",
    "image_path = '../img.jfif'\n",
    "img = cv2.imread(image_path, cv2.IMREAD_GRAYSCALE)\n",
    "\n",
    "\n",
    "som , kernel = get_gauss()\n",
    "\n",
    "\n",
    "imgRes = cv2.filter2D(img.astype(np.int16),-1,kernel)\n",
    "\n",
    "#imgRes = img + imgRes  #rehaussement des contours \n",
    "\n",
    "cv2.normalize(imgRes,imgRes,0,255,cv2.NORM_MINMAX)\n",
    "cv2.imshow(\"image\",img)\n",
    "cv2.imshow(\"result\",imgRes.astype(np.uint8))\n",
    "\n",
    "cv2.waitKey(0)\n",
    "\n",
    "cv2.destroyAllWindows()"
   ]
  }
 ],
 "metadata": {
  "kernelspec": {
   "display_name": "Python 3",
   "language": "python",
   "name": "python3"
  },
  "language_info": {
   "codemirror_mode": {
    "name": "ipython",
    "version": 3
   },
   "file_extension": ".py",
   "mimetype": "text/x-python",
   "name": "python",
   "nbconvert_exporter": "python",
   "pygments_lexer": "ipython3",
   "version": "3.10.7"
  }
 },
 "nbformat": 4,
 "nbformat_minor": 2
}
