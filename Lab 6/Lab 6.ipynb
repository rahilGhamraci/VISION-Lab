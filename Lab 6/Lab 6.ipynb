{
 "cells": [
  {
   "cell_type": "code",
   "execution_count": null,
   "metadata": {},
   "outputs": [],
   "source": [
    "import cv2\n",
    "import numpy as np\n",
    "\n",
    "\n",
    "\n",
    "# Lire l'image\n",
    "image_path = '../img.jfif'\n",
    "img = cv2.imread(image_path, cv2.IMREAD_GRAYSCALE)\n",
    "cv2.threshold(img,128,255,cv2.THRESH_BINARY,img)\n",
    "cv2.namedWindow(\"erode\")\n",
    "sizeErode = 1\n",
    "\n",
    "def erode_func():\n",
    "    size = sizeErode*2 +1\n",
    "    kernel = cv2.getStructuringElement(cv2.MORPH_CROSS,(size,size))\n",
    "    print(kernel)\n",
    "    img_erode = cv2.erode(img,kernel)\n",
    "    cv2.imshow(\"erode\",img_erode)\n",
    "\n",
    "    cv2.erode(img,)\n",
    "def changeESize(x):\n",
    "    global sizeErode\n",
    "    sizeErode = x\n",
    "    erode_func() \n",
    "\n",
    "cv2.createTrackbar(\"erodSize\",\"erode\",sizeErode,17,changeESize)\n",
    "\n",
    "cv2.imshow(\"image\",img)\n",
    "cv2.waitKey(0)\n",
    "cv2.destroyAllWindows()"
   ]
  },
  {
   "cell_type": "code",
   "execution_count": null,
   "metadata": {},
   "outputs": [],
   "source": [
    "import cv2\n",
    "import numpy as np\n",
    "\n",
    "\n",
    "\n",
    "# Lire l'image\n",
    "image_path = '../img.jfif'\n",
    "img = cv2.imread(image_path, cv2.IMREAD_GRAYSCALE)\n",
    "cv2.threshold(img,128,255,cv2.THRESH_BINARY,img)\n",
    "cv2.namedWindow(\"dilate\")\n",
    "sizeDilate = 1\n",
    "\n",
    "def erode_func():\n",
    "    size = sizeDilate*2 +1\n",
    "    kernel = cv2.getStructuringElement(cv2.MORPH_CROSS,(size,size))\n",
    "    print(kernel)\n",
    "    img_dilate = cv2.dilate(img,kernel)\n",
    "    cv2.imshow(\"dilate\",img_dilate)\n",
    "\n",
    "    cv2.erode(img,)\n",
    "def changeESize(x):\n",
    "    global sizeDilate\n",
    "    sizeDilate = x\n",
    "    erode_func() \n",
    "\n",
    "cv2.createTrackbar(\"dilateSize\",\"dilate\",sizeDilate,17,changeESize)\n",
    "\n",
    "cv2.imshow(\"image\",img)\n",
    "cv2.waitKey(0)\n",
    "cv2.destroyAllWindows()"
   ]
  },
  {
   "cell_type": "code",
   "execution_count": null,
   "metadata": {},
   "outputs": [
    {
     "name": "stdout",
     "output_type": "stream",
     "text": [
      "[[0 1 0]\n",
      " [1 1 1]\n",
      " [0 1 0]]\n"
     ]
    },
    {
     "ename": "error",
     "evalue": "OpenCV(4.10.0) :-1: error: (-5:Bad argument) in function 'erode'\n> Overload resolution failed:\n>  - erode() missing required argument 'kernel' (pos 2)\n>  - erode() missing required argument 'kernel' (pos 2)\n",
     "output_type": "error",
     "traceback": [
      "\u001b[1;31m---------------------------------------------------------------------------\u001b[0m",
      "\u001b[1;31merror\u001b[0m                                     Traceback (most recent call last)",
      "Cell \u001b[1;32mIn[7], line 24\u001b[0m, in \u001b[0;36mchangeSize\u001b[1;34m(x)\u001b[0m\n\u001b[0;32m     22\u001b[0m \u001b[38;5;28;01mglobal\u001b[39;00m sizeMorph\n\u001b[0;32m     23\u001b[0m sizeMorph \u001b[38;5;241m=\u001b[39m x\n\u001b[1;32m---> 24\u001b[0m \u001b[43mmorph_func\u001b[49m\u001b[43m(\u001b[49m\u001b[43m)\u001b[49m\n",
      "Cell \u001b[1;32mIn[7], line 20\u001b[0m, in \u001b[0;36mmorph_func\u001b[1;34m()\u001b[0m\n\u001b[0;32m     17\u001b[0m img_morph \u001b[38;5;241m=\u001b[39m cv2\u001b[38;5;241m.\u001b[39mmorphologyEx(img,cv2\u001b[38;5;241m.\u001b[39mMORPH_GRADIENT,kernel)\n\u001b[0;32m     18\u001b[0m cv2\u001b[38;5;241m.\u001b[39mimshow(\u001b[38;5;124m\"\u001b[39m\u001b[38;5;124mmorph\u001b[39m\u001b[38;5;124m\"\u001b[39m,img_morph)\n\u001b[1;32m---> 20\u001b[0m \u001b[43mcv2\u001b[49m\u001b[38;5;241;43m.\u001b[39;49m\u001b[43merode\u001b[49m\u001b[43m(\u001b[49m\u001b[43mimg\u001b[49m\u001b[43m,\u001b[49m\u001b[43m)\u001b[49m\n",
      "\u001b[1;31merror\u001b[0m: OpenCV(4.10.0) :-1: error: (-5:Bad argument) in function 'erode'\n> Overload resolution failed:\n>  - erode() missing required argument 'kernel' (pos 2)\n>  - erode() missing required argument 'kernel' (pos 2)\n"
     ]
    }
   ],
   "source": [
    "import cv2\n",
    "import numpy as np\n",
    "\n",
    "\n",
    "\n",
    "# Lire l'image\n",
    "image_path = '../img.jfif'\n",
    "img = cv2.imread(image_path, cv2.IMREAD_GRAYSCALE)\n",
    "cv2.threshold(img,128,255,cv2.THRESH_BINARY,img)\n",
    "cv2.namedWindow(\"morph\")\n",
    "sizeMorph= 1\n",
    "\n",
    "def morph_func():\n",
    "    size = sizeMorph*2 +1\n",
    "    kernel = cv2.getStructuringElement(cv2.MORPH_CROSS,(size,size))\n",
    "    print(kernel)\n",
    "    img_morph = cv2.morphologyEx(img,cv2.MORPH_GRADIENT,kernel)\n",
    "    cv2.imshow(\"morph\",img_morph)\n",
    "\n",
    "\n",
    "def changeSize(x):\n",
    "    global sizeMorph\n",
    "    sizeMorph = x\n",
    "    morph_func() \n",
    "\n",
    "cv2.createTrackbar(\"morphSize\",\"morph\",sizeMorph,17,changeSize)\n",
    "\n",
    "cv2.imshow(\"image\",img)\n",
    "cv2.waitKey(0)\n",
    "cv2.destroyAllWindows()"
   ]
  }
 ],
 "metadata": {
  "kernelspec": {
   "display_name": "Python 3",
   "language": "python",
   "name": "python3"
  },
  "language_info": {
   "codemirror_mode": {
    "name": "ipython",
    "version": 3
   },
   "file_extension": ".py",
   "mimetype": "text/x-python",
   "name": "python",
   "nbconvert_exporter": "python",
   "pygments_lexer": "ipython3",
   "version": "3.10.7"
  }
 },
 "nbformat": 4,
 "nbformat_minor": 2
}
