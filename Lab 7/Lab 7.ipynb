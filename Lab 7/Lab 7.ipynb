{
 "cells": [
  {
   "cell_type": "code",
   "execution_count": 15,
   "metadata": {},
   "outputs": [],
   "source": [
    "import cv2\n",
    "import numpy as np\n",
    "\n",
    "\n",
    "\n",
    "# Lire l'image\n",
    "image_path = '../img.jfif'\n",
    "img = cv2.imread(image_path, cv2.IMREAD_COLOR)\n",
    "img_b = np.zeros(img.shape,img.dtype)\n",
    "img_g = np.zeros(img.shape,img.dtype)\n",
    "img_r = np.zeros(img.shape,img.dtype)\n",
    "\n",
    "\n",
    "h,w,c = img.shape\n",
    "'''\n",
    "\n",
    "for y in range(h):\n",
    "    for x in range(w):\n",
    "        img_b[y,x,0] = img[y,x,0]\n",
    "        img_g[y,x,1] = img[y,x,1]\n",
    "        img_r[y,x,2] = img[y,x,2]\n",
    "\n",
    "'''\n",
    "\n",
    "img_b[:,:,0], img_g[:,:,1], img_r[:,:,2] = img[:,:,0] , img[:,:,1], img[:,:,2]\n",
    "\n",
    "'''\n",
    "img_gray = ( img_b[...,0] * 0.1 + img_g[...,1] * 0.6  + img_r[... ,2] * 0.3 ) / 3 \n",
    "\n",
    "utilisation de la ponderation va eleminer le problem des valeurs tronquees  et on aura pas besoin d'utiliser le np.float32\n",
    "\n",
    "\n",
    "'''\n",
    "\n",
    "img_gray = ( np.float32(img_b[...,0]) + np.float32(img_g[...,1]) + np.float32(img_r[... ,2]) ) / 3 \n",
    "\n",
    "#img_gray = np.uint8(img_gray) # changer le type et garder les valeurs \n",
    "img_gray = img_gray / 255 # garder le type float  et  changer les valeurs entre 0 et 1 ou bien ( 3 *255 )\n",
    "\n",
    "img_hsv = cv2.cvtColor(img,cv2.COLOR_BGR2HLS)\n",
    "\n",
    "img_float =  img / 255\n",
    "\n",
    "\n",
    "cv2.imshow(\"image B\", img_b)\n",
    "cv2.imshow(\"image G\", img_g)\n",
    "cv2.imshow(\"image R\", img_r)\n",
    "cv2.imshow(\"image gray\", img_gray)\n",
    "cv2.imshow(\"image hsv\", img_hsv)\n",
    "cv2.imshow(\"image float\", img_float)\n",
    "\n",
    "\n",
    "\n",
    "cv2.waitKey(0)\n",
    "cv2.destroyAllWindows()"
   ]
  }
 ],
 "metadata": {
  "kernelspec": {
   "display_name": "Python 3",
   "language": "python",
   "name": "python3"
  },
  "language_info": {
   "codemirror_mode": {
    "name": "ipython",
    "version": 3
   },
   "file_extension": ".py",
   "mimetype": "text/x-python",
   "name": "python",
   "nbconvert_exporter": "python",
   "pygments_lexer": "ipython3",
   "version": "3.10.7"
  }
 },
 "nbformat": 4,
 "nbformat_minor": 2
}
