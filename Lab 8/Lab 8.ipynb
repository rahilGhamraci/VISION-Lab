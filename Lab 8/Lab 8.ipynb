{
 "cells": [
  {
   "cell_type": "code",
   "execution_count": null,
   "metadata": {},
   "outputs": [],
   "source": [
    "#echantillonage : transformer val continues en val discretes \n",
    "#freq : nombre de frame par secondes "
   ]
  },
  {
   "cell_type": "code",
   "execution_count": null,
   "metadata": {},
   "outputs": [
    {
     "name": "stdout",
     "output_type": "stream",
     "text": [
      "time=  0.628957986831665  fps= 1.5899313164579323\n",
      "time=  0.3325343132019043  fps= 3.0072084602975444\n",
      "time=  0.2926664352416992  fps= 3.4168591938947417\n",
      "time=  0.2866182327270508  fps= 3.4889615726306893\n",
      "time=  0.26586413383483887  fps= 3.7613196845168435\n",
      "time=  0.2910153865814209  fps= 3.4362444259290665\n",
      "time=  0.2833259105682373  fps= 3.529504230638151\n",
      "time=  0.2806587219238281  fps= 3.5630462261971103\n",
      "time=  0.22698354721069336  fps= 4.405605658597661\n",
      "time=  0.3005950450897217  fps= 3.326734809289753\n",
      "time=  0.2606673240661621  fps= 3.8363074604095058\n",
      "time=  0.2291727066040039  fps= 4.36352135827386\n",
      "time=  0.24953413009643555  fps= 4.007467834614598\n",
      "time=  0.26100754737854004  fps= 3.8313068340115737\n",
      "time=  0.320021390914917  fps= 3.1247911183095463\n",
      "time=  0.2492978572845459  fps= 4.011265924594814\n",
      "time=  0.308835506439209  fps= 3.2379696607094606\n",
      "time=  0.3157496452331543  fps= 3.1670661079019897\n",
      "time=  0.26168394088745117  fps= 3.821403776665434\n",
      "time=  0.3383774757385254  fps= 2.9552794488387595\n",
      "time=  0.2641415596008301  fps= 3.7858487756004657\n",
      "time=  0.22179222106933594  fps= 4.508724405115107\n"
     ]
    }
   ],
   "source": [
    "import cv2\n",
    "import numpy as np\n",
    "import time \n",
    "\n",
    "#cap = cv2.VideoCapture(0) camera pc\n",
    "#cap = cv2.VideoCapture('output.avi') video enregistrée\n",
    "url = \"http://192.168.226.189:8080/video\" #camera tel\n",
    "cap = cv2.VideoCapture(url)\n",
    "\n",
    "\n",
    "frame_width = int(cap.get(3))\n",
    "frame_height= int(cap.get(4))\n",
    "\n",
    "if not cap.isOpened():\n",
    "    print(\"error capture\")\n",
    "    exit(0)\n",
    "\n",
    "fourcc = cv2.VideoWriter_fourcc('X','V','I','D')\n",
    "out = cv2.VideoWriter('output2.avi',fourcc,30,(frame_width,frame_height))\n",
    "\n",
    "while(cap.isOpened()):\n",
    "\n",
    "    debut = time.time()\n",
    "    cap.open(url) # pour recupere l'image actuelle \n",
    "    ret, frame = cap.read()\n",
    "\n",
    "    if not ret:\n",
    "        print(\"error read frame\")\n",
    "        break\n",
    "    \n",
    "    #cv2.flip(frame,0,frame)\n",
    "\n",
    "    '''-1  par rapport x et y\n",
    "        0 x \n",
    "        1 y\n",
    "    '''\n",
    "    out.write(frame)\n",
    "    cv2.imshow(\"image\",frame)\n",
    "\n",
    "    '''\n",
    "    cv2.waitKey(10) retourne un nombre sur 16 bits \n",
    "    et le and avec 0xFF va prendre les premiers 8 bits ( les plus à droite ) de cv2.waitKey(10)\n",
    "    pour pouvoir comparer avec ord('q') qui est egalement sur 16 bits  mais qui contien des 0 dans les 8 bits les plus à gauche \n",
    "    \n",
    "    '''\n",
    "    if cv2.waitKey(20) & 0xFF == ord('q'): \n",
    "        break\n",
    "\n",
    "    time_iter = time.time() - debut\n",
    "    print(\"time= \", time_iter,\" fps=\",(1./time_iter))\n",
    "\n",
    "out.release()\n",
    "cap.release()\n",
    "cv2.destroyAllWindows()"
   ]
  }
 ],
 "metadata": {
  "kernelspec": {
   "display_name": "Python 3",
   "language": "python",
   "name": "python3"
  },
  "language_info": {
   "codemirror_mode": {
    "name": "ipython",
    "version": 3
   },
   "file_extension": ".py",
   "mimetype": "text/x-python",
   "name": "python",
   "nbconvert_exporter": "python",
   "pygments_lexer": "ipython3",
   "version": "3.10.7"
  }
 },
 "nbformat": 4,
 "nbformat_minor": 2
}
