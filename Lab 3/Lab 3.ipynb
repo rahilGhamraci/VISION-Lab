{
 "cells": [
  {
   "cell_type": "code",
   "execution_count": null,
   "metadata": {},
   "outputs": [],
   "source": [
    "import cv2\n",
    "import numpy as np\n",
    "import matplotlib.pyplot as plt\n",
    "\n",
    "from numpy.lib.shape_base import vsplit\n",
    "\n",
    "# Lire l'image\n",
    "image_path = '../img.jfif'\n",
    "image = cv2.imread(image_path, cv2.IMREAD_GRAYSCALE)\n",
    "\n",
    "vois=3\n",
    "\n",
    "def filtreMoy(img):\n",
    "        h,w = img.shape\n",
    "        imgMoy= np.zeros(img.shape,img.dtype)\n",
    "        for y in range(h):\n",
    "                for x in range(w):\n",
    "                        if y < vois/2 or y > (h -vois/2) or x < vois/2 or x > (w-vois/2) :\n",
    "                              imgMoy[y,x] = img[y,x]  \n",
    "                        else:\n",
    "                                m = int(vois/2)\n",
    "                                imgVois = img[y-m:y+m+1,x-m:x+m+1]\n",
    "                                moy =0\n",
    "                                for yv in range(imgVois.shape[0]):\n",
    "                                        for xv in range(imgVois.shape[1]):\n",
    "                                                moy += imgVois[yv,xv]\n",
    "                                moy /= vois*vois\n",
    "                                imgMoy[y,x] = moy\n",
    "                                imgMoy[y,x] = np.mean(imgVois)\n",
    "        return imgMoy\n",
    "\n",
    "def filtreMedian(img):\n",
    "        h,w = img.shape\n",
    "        imgMed= np.zeros(img.shape,img.dtype)\n",
    "        for y in range(h):\n",
    "                for x in range(w):\n",
    "                        if y < vois/2 or y > (h -vois/2) or x < vois/2 or x > (w-vois/2) :\n",
    "                              imgMed[y,x] = img[y,x]  \n",
    "                        else:\n",
    "                                m = int(vois/2)\n",
    "                                imgVois = img[y-m:y+m+1,x-m:x+m+1]\n",
    "                                t = np.zeros((vois*vois),np.uint8)\n",
    "                                for yv in range(imgVois.shape[0]):\n",
    "                                        for xv in range(imgVois.shape[1]):\n",
    "                                                t[yv*vois + xv] += imgVois[yv,xv]\n",
    "                                t.sort()\n",
    "                                imgMed[y,x] = t[int((vois*vois-1)/2)]\n",
    "                                imgMed[y,x] = np.median(imgVois)\n",
    "        return imgMed"
   ]
  },
  {
   "cell_type": "code",
   "execution_count": null,
   "metadata": {},
   "outputs": [],
   "source": [
    "imgMoy = filtreMoy(image)\n",
    "imgMed = filtreMedian(image)\n",
    "\n",
    "cv2.imshow(\"image\", image)\n",
    "\n",
    "cv2.imshow(\"filtre moy\", imgMoy)\n",
    "\n",
    "cv2.imshow(\"filtre median\", imgMed)\n",
    "\n",
    "cv2.waitKey(0)\n",
    "\n",
    "cv2.destroyAllWindows()"
   ]
  }
 ],
 "metadata": {
  "kernelspec": {
   "display_name": "Python 3",
   "language": "python",
   "name": "python3"
  },
  "language_info": {
   "codemirror_mode": {
    "name": "ipython",
    "version": 3
   },
   "file_extension": ".py",
   "mimetype": "text/x-python",
   "name": "python",
   "nbconvert_exporter": "python",
   "pygments_lexer": "ipython3",
   "version": "3.10.7"
  }
 },
 "nbformat": 4,
 "nbformat_minor": 2
}
