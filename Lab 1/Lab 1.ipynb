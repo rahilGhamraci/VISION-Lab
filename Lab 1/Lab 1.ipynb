{
 "cells": [
  {
   "cell_type": "code",
   "execution_count": 2,
   "metadata": {},
   "outputs": [],
   "source": [
    "import cv2\n",
    "import numpy as np\n",
    "\n",
    "# Lire l'image\n",
    "image_path = '../img.jfif'\n",
    "\n",
    "image = cv2.imread(image_path)\n",
    "\n",
    "# Vérifier si l'image est null\n",
    "if image is None:\n",
    "    print(\"Error : the image can't be loaded, check the path\")\n",
    "    exit(0)\n",
    "else:\n",
    "    h,w,c= image.shape\n",
    "    imgRes= np.zeros(image.shape,np.float32)\n",
    "    #imgRes= np.zeros_like(image)\n",
    "\n",
    "    '''for y in range(h):\n",
    "        for x in range(w):\n",
    "            imgRes[y,x,:] = 255 - image[y,x,:]'''\n",
    "           \n",
    "    \n",
    "    imgRes[:,:,:] = 255 - image[:,:,:]   #copying the values \n",
    "\n",
    "    #imgRes = 255 - image * 256 #creating a new image \n",
    "\n",
    "    imgRes = imgRes / 255.\n",
    "\n",
    "    #image / 1024 * 1000000 for this type of operations we use float\n",
    "\n",
    "    # Afficher l'image\n",
    "    cv2.imshow(\"Image\", image)\n",
    "\n",
    "    cv2.imshow(\"ImageRes\", imgRes)\n",
    "\n",
    "    cv2.waitKey(0)\n",
    "\n",
    "    cv2.destroyAllWindows()\n"
   ]
  }
 ],
 "metadata": {
  "kernelspec": {
   "display_name": "Python 3",
   "language": "python",
   "name": "python3"
  },
  "language_info": {
   "codemirror_mode": {
    "name": "ipython",
    "version": 3
   },
   "file_extension": ".py",
   "mimetype": "text/x-python",
   "name": "python",
   "nbconvert_exporter": "python",
   "pygments_lexer": "ipython3",
   "version": "-1.-1.-1"
  }
 },
 "nbformat": 4,
 "nbformat_minor": 2
}
